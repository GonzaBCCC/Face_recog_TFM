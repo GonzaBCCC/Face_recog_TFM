{
 "cells": [
  {
   "cell_type": "code",
   "execution_count": 1,
   "metadata": {
    "collapsed": true
   },
   "outputs": [],
   "source": [
    "import numpy as np\n",
    "import matplotlib.pyplot as plt\n",
    "import sys\n",
    "import caffe\n",
    "import os\n",
    "#from collections import Counter\n",
    "\n",
    "caffe.set_device(0)\n",
    "caffe.set_mode_cpu()"
   ]
  },
  {
   "cell_type": "code",
   "execution_count": 14,
   "metadata": {
    "collapsed": true
   },
   "outputs": [],
   "source": [
    "def load_model_net(model_used):\n",
    "    # Set the right path to your model definition file, pretrained model weights,\n",
    "    # and the image you would like to classify.\n",
    "    MODEL_FILE = '/home/gonzalo/models/VGG_FACE_deploy.prototxt'\n",
    "    PRETRAINED = '/media/gonzalo/OS/mydata/weights_solvers/TO USE/'+model_used\n",
    "    \n",
    "    # load the model\n",
    "    caffe.set_mode_gpu()\n",
    "    caffe.set_device(0)\n",
    "    net = caffe.Classifier(MODEL_FILE, PRETRAINED,\n",
    "                           mean=np.load('/home/gonzalo/data/MIT/mean_files/7_net_mean.npy').mean(1).mean(1),\n",
    "                           channel_swap=(2,1,0),\n",
    "                           raw_scale=255,\n",
    "                           image_dims=(224, 224))\n",
    "    print \"successfully loaded classifier\"\n",
    "    return net"
   ]
  },
  {
   "cell_type": "code",
   "execution_count": 3,
   "metadata": {
    "collapsed": true
   },
   "outputs": [],
   "source": [
    "def prediction_net(files, test_path, angle_list, net):\n",
    "    \n",
    "    #reset variables\n",
    "    tp, tp_0, tp_4, tp_8, tp_12, tp_16, tp_20, tp_24 = 0.0, 0.0, 0.0, 0.0, 0.0, 0.0, 0.0, 0.0\n",
    "    fp, fp_0, fp_4, fp_8, fp_12, fp_16, fp_20, fp_24 = 0.0, 0.0, 0.0, 0.0, 0.0, 0.0, 0.0, 0.0\n",
    "    tpr = []\n",
    "    # test the performance\n",
    "    for x in files:\n",
    "        label = int(x[3])\n",
    "        angle = x[5:8]\n",
    "        if angle[0]=='0':\n",
    "            rot = int(angle[0])\n",
    "        elif angle[2]== '_':\n",
    "            rot = int(angle[1])\n",
    "        else:\n",
    "            rot = int(angle[1:])\n",
    "        \n",
    "        IMAGE_FILE = os.path.join(test_path, x)\n",
    "        input_image = caffe.io.load_image(IMAGE_FILE)\n",
    "        # predict takes any number of images,\n",
    "        # and formats them for the Caffe net automatically\n",
    "        pred = net.predict([input_image])\n",
    "        predicted = pred.argmax()\n",
    "        if predicted==label:\n",
    "            tp += 1\n",
    "            if rot == 0:\n",
    "                tp_0 += 1\n",
    "            elif rot == 4:\n",
    "                tp_4 += 1\n",
    "            elif rot == 8:\n",
    "                tp_8 += 1\n",
    "            elif rot == 12:\n",
    "                tp_12 += 1\n",
    "            elif rot == 16:\n",
    "                tp_16 += 1\n",
    "            elif rot == 20:\n",
    "                tp_20 += 1\n",
    "            elif rot == 24:\n",
    "                tp_24 += 1  \n",
    "            print predicted, label, 'good'\n",
    "        else:\n",
    "            fp += 1\n",
    "            if rot == 0:\n",
    "                fp_0 += 1\n",
    "            elif rot == 4:\n",
    "                fp_4 += 1\n",
    "            elif rot == 8:\n",
    "                fp_8 += 1\n",
    "            elif rot == 12:\n",
    "                fp_12 += 1\n",
    "            elif rot == 16:\n",
    "                fp_16 += 1\n",
    "            elif rot == 20:\n",
    "                fp_20 += 1\n",
    "            elif rot == 24:\n",
    "                fp_24 += 1          \n",
    "            print predicted, label, 'bad'    \n",
    "    # Measure the TPR for this setup \n",
    "    tpr = [tp/(tp+fp), tp_0/(tp_0+fp_0), tp_4/(tp_4+fp_4), tp_8/(tp_8+fp_8), tp_12/(tp_12+fp_12), \n",
    "                tp_16/(tp_16+fp_16), tp_20/(tp_20+fp_20), tp_24/(tp_24+fp_24)]\n",
    "   \n",
    "    print ' TPR =', tpr[0], ' TPR 0 =', tpr[1], ' TPR 4 =', tpr[2], ' TPR 8 =', tpr[3]\n",
    "    print ' TPR 12 =', tpr[4], ' TPR 16 =', tpr[5],' TPR 20 =', tpr[6], ' TPR 24 =', tpr[7]\n",
    "    \n",
    "    return tpr"
   ]
  },
  {
   "cell_type": "code",
   "execution_count": 4,
   "metadata": {
    "collapsed": true
   },
   "outputs": [],
   "source": [
    "def output_global(number_of_images, tpr):\n",
    "    with open(\"/home/gonzalo/data/Results/Results.txt\", \"a\") as text_file:\n",
    "        text_file.write(\"TPR for \"+ str(number_of_images) + \" images: {}\\n\".format(tpr[0]))"
   ]
  },
  {
   "cell_type": "code",
   "execution_count": 5,
   "metadata": {
    "collapsed": true
   },
   "outputs": [],
   "source": [
    "def output_angles(number_of_images, angle_list, tpr):\n",
    "    with open(\"/home/gonzalo/data/Results/Results_angle.txt\", \"a\") as text_file:\n",
    "        text_file.write(\"TPR for \"+ str(number_of_images) + \" images and rot=\" + str(angle_list[0]) + \": {}\\n\".format(tpr[1]))\n",
    "        text_file.write(\"TPR for \"+ str(number_of_images) + \" images and rot=\" + str(angle_list[1]) + \": {}\\n\".format(tpr[2]))\n",
    "        text_file.write(\"TPR for \"+ str(number_of_images) + \" images and rot=\" + str(angle_list[2]) + \": {}\\n\".format(tpr[3]))\n",
    "        text_file.write(\"TPR for \"+ str(number_of_images) + \" images and rot=\" + str(angle_list[3]) + \": {}\\n\".format(tpr[4]))\n",
    "        text_file.write(\"TPR for \"+ str(number_of_images) + \" images and rot=\" + str(angle_list[4]) + \": {}\\n\".format(tpr[5]))\n",
    "        text_file.write(\"TPR for \"+ str(number_of_images) + \" images and rot=\" + str(angle_list[5]) + \": {}\\n\".format(tpr[6]))\n",
    "        text_file.write(\"TPR for \"+ str(number_of_images) + \" images and rot=\" + str(angle_list[6]) + \": {}\\n\".format(tpr[7]))"
   ]
  },
  {
   "cell_type": "code",
   "execution_count": 7,
   "metadata": {},
   "outputs": [
    {
     "name": "stdout",
     "output_type": "stream",
     "text": [
      "model35_train_0_top.caffemodel\n",
      "successfully loaded classifier\n"
     ]
    }
   ],
   "source": [
    "if __name__ == \"__main__\":\n",
    "    \n",
    "    img_number = [ 7]#, 20, 30]#, 40, 50, 100, 150, 200]\n",
    "    angle_list =[0, 4, 8, 12, 16, 20, 24]\n",
    "    test_path = '/home/gonzalo/data/MIT/test/test_0'\n",
    "    files = os.listdir(test_path)\n",
    "    \n",
    "    number_of_images = 35\n",
    "    train_set = 'train_0'\n",
    "    epoch_set = 'top'\n",
    "    model_used = 'model'+str(number_of_images)+'_'+train_set+'_'+epoch_set+'.caffemodel'\n",
    "    print model_used\n",
    "    \n",
    "    net = load_model_net(model_used)\n"
   ]
  },
  {
   "cell_type": "code",
   "execution_count": 9,
   "metadata": {},
   "outputs": [
    {
     "name": "stdout",
     "output_type": "stream",
     "text": [
      "250\n"
     ]
    }
   ],
   "source": [
    "# create transformer for the input called 'data'\n",
    "transformer = caffe.io.Transformer({'data': net.blobs['data'].data.shape})\n",
    "\n",
    "transformer.set_transpose('data', (2,0,1))  # move image channels to outermost dimension\n",
    "transformer.set_channel_swap('data', (2,1,0))  # swap channels from RGB to BGR\n",
    "\n",
    "print len(files)\n",
    "net.blobs['data'].reshape(len(files),        # batch size\n",
    "                          3,         # 3-channel (BGR) images\n",
    "                          227, 227)  # image size is 227x227"
   ]
  },
  {
   "cell_type": "code",
   "execution_count": 15,
   "metadata": {},
   "outputs": [
    {
     "name": "stdout",
     "output_type": "stream",
     "text": [
      "label= 0\n",
      "pred= [[ 1.  0.  0.  0.  0.  0.  0.  0.  0.  0.]]\n",
      "71.0676066875\n"
     ]
    }
   ],
   "source": [
    "import time\n",
    "#reset variables\n",
    "tp, tp_0, tp_4, tp_8, tp_12, tp_16, tp_20, tp_24 = 0.0, 0.0, 0.0, 0.0, 0.0, 0.0, 0.0, 0.0\n",
    "fp, fp_0, fp_4, fp_8, fp_12, fp_16, fp_20, fp_24 = 0.0, 0.0, 0.0, 0.0, 0.0, 0.0, 0.0, 0.0\n",
    "tpr = []\n",
    "inputs =[]\n",
    "time_pred = 0\n",
    "\n",
    "# test the performance outputting time consumed for face prediction of the test image. The loop\n",
    "# cycles throughout the list of test images returning groundtruth label, prediction and time consumption.\n",
    "for x in files[0:9]:\n",
    "        label = int(x[3])\n",
    "        angle = x[5:8]\n",
    "        if angle[0]=='0':\n",
    "            rot = int(angle[0])\n",
    "        elif angle[2]== '_':\n",
    "            rot = int(angle[1])\n",
    "        else:\n",
    "            rot = int(angle[1:])\n",
    "        \n",
    "        IMAGE_FILE = os.path.join(test_path, x)\n",
    "        input_image = caffe.io.load_image(IMAGE_FILE)\n",
    "        startTime = time.time()\n",
    "        \n",
    "        # Launch neural network's prediction, outputs a predictions vector with each element as a class likelihood\n",
    "        pred = net.predict([input_image])\n",
    "        \n",
    "        # Extract the maximum value's argument as the class prediction\n",
    "        predicted = pred.argmax()\n",
    "        \n",
    "        # Output prediction's time\n",
    "        time_pred += float(time.time()-startTime)\n",
    "    \n",
    "print 'label= '+str(label)+'\\n', 'pred= '+str(pred)+'\\n', time_pred"
   ]
  }
 ],
 "metadata": {
  "kernelspec": {
   "display_name": "Python 2",
   "language": "python",
   "name": "python2"
  },
  "language_info": {
   "codemirror_mode": {
    "name": "ipython",
    "version": 2
   },
   "file_extension": ".py",
   "mimetype": "text/x-python",
   "name": "python",
   "nbconvert_exporter": "python",
   "pygments_lexer": "ipython2",
   "version": "2.7.12"
  }
 },
 "nbformat": 4,
 "nbformat_minor": 2
}
