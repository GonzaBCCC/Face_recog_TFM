{
 "cells": [
  {
   "cell_type": "code",
   "execution_count": null,
   "metadata": {
    "collapsed": true
   },
   "outputs": [],
   "source": [
    "import os\n",
    "print os.path.join(caffe_root + 'models/vgg_face_caffe')\n",
    "if os.path.isfile(caffe_root + 'models/vgg_face_caffe/VGG_FACE.caffemodel'):\n",
    "    print 'Vgg Face Caffe found.'\n",
    "else:\n",
    "    print 'Downloading pre-trained Vgg Face Caffe model...'\n",
    "    #!./scripts/download_model_from_gist.sh <gist_id> \n",
    "    !../scripts/download_model_binary.py ../models/bvlc_reference_caffenet"
   ]
  },
  {
   "cell_type": "code",
   "execution_count": null,
   "metadata": {
    "collapsed": true
   },
   "outputs": [],
   "source": [
    "##################################################################\n",
    "# Subssidiary functions #\n",
    "##################################################################\n",
    "\n",
    "def make_sure_path_exists(directory):\n",
    "    if not os.path.exists(directory):\n",
    "        try:\n",
    "            os.makedirs(directory)\n",
    "        except OSError as error:\n",
    "            if error.errno != errno.EEXIST:\n",
    "                raise"
   ]
  },
  {
   "cell_type": "code",
   "execution_count": null,
   "metadata": {
    "collapsed": true
   },
   "outputs": [],
   "source": [
    "#Fuera de uso###################\n",
    "\n",
    "from caffe import layers as L\n",
    "from caffe import params as P\n",
    "\n",
    "weight_param = dict(lr_mult=1, decay_mult=1)\n",
    "bias_param   = dict(lr_mult=2, decay_mult=0)\n",
    "learned_param = [weight_param, bias_param]\n",
    "\n",
    "frozen_param = [dict(lr_mult=0)] * 2\n",
    "\n",
    "def conv_relu(bottom, ks, nout, stride=1, pad=0, group=1,\n",
    "              param=learned_param,\n",
    "              weight_filler=dict(type='gaussian', std=0.01),\n",
    "              bias_filler=dict(type='constant', value=0.1)):\n",
    "    conv = L.Convolution(bottom, kernel_size=ks, stride=stride,\n",
    "                         num_output=nout, pad=pad, group=group,\n",
    "                         param=param, weight_filler=weight_filler,\n",
    "                         bias_filler=bias_filler)\n",
    "    return conv, L.ReLU(conv, in_place=True)\n",
    "\n",
    "def fc_relu(bottom, nout, param=learned_param,\n",
    "            weight_filler=dict(type='gaussian', std=0.005),\n",
    "            bias_filler=dict(type='constant', value=0.1)):\n",
    "    fc = L.InnerProduct(bottom, num_output=nout, param=param,\n",
    "                        weight_filler=weight_filler,\n",
    "                        bias_filler=bias_filler)\n",
    "    return fc, L.ReLU(fc, in_place=True)\n",
    "\n",
    "def max_pool(bottom, ks, stride=1):\n",
    "    return L.Pooling(bottom, pool=P.Pooling.MAX, kernel_size=ks, stride=stride)\n",
    "\n",
    "def vgg_face_net(data, label=None, train=True, num_classes=10,\n",
    "             classifier_name='fc9_elq', learn_all=False):\n",
    "    \"\"\"Returns a NetSpec specifying vgg_face_net, following the original proto text\n",
    "       specification (./M9/Methods/vgg_face_caffe/VGG_FACE_train_val.prototxt).\"\"\"\n",
    "    n = caffe.NetSpec()\n",
    "    n.data = data\n",
    "    param = learned_param if learn_all else frozen_param\n",
    "    n.conv1_1, n.relu1_1 = conv_relu(n.data, 3, 64, pad=1, param=learned_param)\n",
    "    n.conv1_2, n.relu1_2 = conv_relu(n.relu1_1, 3, 64, pad=1, param=learned_param)\n",
    "    n.pool1 = max_pool(n.relu1_2, 2, stride=2)\n",
    "    #n.norm1 = L.LRN(n.pool1, local_size=5, alpha=1e-4, beta=0.75)\n",
    "    n.conv2_1, n.relu2_1 = conv_relu(n.pool1, 3, 128, pad=1, param=learned_param)\n",
    "    n.conv2_2, n.relu2_2 = conv_relu(n.relu2_1, 3, 128, pad=1, param=learned_param)\n",
    "    n.pool2 = max_pool(n.relu2_2, 2, stride=2)\n",
    "    #n.norm2 = L.LRN(n.pool2, local_size=5, alpha=1e-4, beta=0.75)\n",
    "    n.conv3_1, n.relu3_1 = conv_relu(n.pool2, 3, 256, pad=1, param=learned_param)\n",
    "    n.conv3_2, n.relu3_2 = conv_relu(n.relu3_1, 3, 256, pad=1, param=learned_param)\n",
    "    n.conv3_3, n.relu3_3 = conv_relu(n.relu3_2, 3, 256, pad=1, param=learned_param)\n",
    "    n.pool3 = max_pool(n.relu3_3, 2, stride=2)\n",
    "    n.conv4_1, n.relu4_1 = conv_relu(n.pool3, 3, 512, pad=1, param=learned_param)\n",
    "    n.conv4_2, n.relu4_2 = conv_relu(n.relu4_1, 3, 512, pad=1, param=learned_param)\n",
    "    n.conv4_3, n.relu4_3 = conv_relu(n.relu4_2, 3, 512, pad=1, param=learned_param)\n",
    "    n.pool4 = max_pool(n.relu4_3, 2, stride=2)\n",
    "    n.conv5_1, n.relu5_1 = conv_relu(n.pool4, 3, 512, pad=1, param=learned_param)\n",
    "    n.conv5_2, n.relu5_2 = conv_relu(n.relu5_1, 3, 512, pad=1, param=learned_param)\n",
    "    n.conv5_3, n.relu5_3 = conv_relu(n.relu5_2, 3, 512, pad=1, param=learned_param)\n",
    "    n.pool5 = max_pool(n.relu5_3, 2, stride=2)\n",
    "    n.fc6, n.relu6 = fc_relu(n.pool5, 4096, param=param)\n",
    "    if train:\n",
    "        n.drop6 = fc7input = L.Dropout(n.relu6, in_place=True)\n",
    "    else:\n",
    "        fc7input = n.relu6\n",
    "    n.fc7, n.relu7 = fc_relu(fc7input, 4096, param=param)\n",
    "    if train:\n",
    "        n.drop7 = fc8input = L.Dropout(n.relu7, in_place=True)\n",
    "    else:\n",
    "        fc8input = n.relu7\n",
    "    # always learn fc8 (param=learned_param)\n",
    "    fc8 = L.InnerProduct(fc8input, num_output=2622, param=learned_param)\n",
    "    # give fc8 the name specified by argument `classifier_name`\n",
    "    fc9_elq = L.InnerProduct(fc8, num_output=1, param=learned_param)\n",
    "    n.__setattr__(classifier_name, fc9_elq)\n",
    "    if not train:\n",
    "        n.probs = L.Softmax(fc9_elq)\n",
    "    if label is not None:\n",
    "        n.label = label\n",
    "        n.loss = L.SoftmaxWithLoss(fc9_elq, n.label)\n",
    "        n.acc = L.Accuracy(fc9_elq, n.label)\n",
    "    # write the net to a temporary file and return its filename\n",
    "    with tempfile.NamedTemporaryFile(delete=False) as f:\n",
    "        f.write(str(n.to_proto()))\n",
    "        return f.name "
   ]
  },
  {
   "cell_type": "code",
   "execution_count": null,
   "metadata": {
    "collapsed": true
   },
   "outputs": [],
   "source": [
    "#Fuera de uso###################\n",
    "\n",
    "from caffe import layers as L\n",
    "from caffe import params as P\n",
    "\n",
    "def primer_net(train=True, learn_all=False, subset=None):\n",
    "    data_path = '/home/gonzalo/data/MIT/'\n",
    "    model = '/home/gonzalo/dev/vgg_face_caffe/VGG_FACE_train_val.prototxt' #'/home/gonzalo/caffe/models/bvlc_googlenet/train_val.prototxt'# \n",
    "    weights = '/home/gonzalo/dev/vgg_face_caffe/VGG_FACE.caffemodel'\n",
    "    if subset is None:\n",
    "        subset = 'train' if train else 'test'\n",
    "    source = data_path + '%s_0.txt' % subset\n",
    "    print source\n",
    "    transform_param = dict(mirror=train, #crop_size=227,\n",
    "        mean_file= None)\n",
    "    primer_data, primer_label = L.ImageData(\n",
    "        transform_param=transform_param, source=source,\n",
    "        batch_size=20, ntop=2)\n",
    "    print primer_data, primer_label\n",
    "    #return vgg_face_net(data=primer_data, label=primer_label, train=True,\n",
    "    #                num_classes=10,\n",
    "    #                classifier_name='fc9_elq',\n",
    "    #                learn_all=False)\n",
    "    return caffe.Net(model,\n",
    "                    weights,\n",
    "                    caffe.TRAIN)\n"
   ]
  },
  {
   "cell_type": "code",
   "execution_count": null,
   "metadata": {
    "collapsed": true
   },
   "outputs": [],
   "source": [
    "#print primer_net(train=True, learn_all=False, subset=None)\n",
    "\n",
    "#Directories definition function\n",
    "#Directory to build processed dataset\n",
    "work_path = \"/home/gonzalo/data/MIT\"#os.path.dirname(os.path.abspath(__file__))\n",
    "print work_path #for debug purposes\n",
    "make_sure_path_exists(work_path)\n",
    "#Directory to from where to extract data"
   ]
  }
 ],
 "metadata": {
  "kernelspec": {
   "display_name": "Python 2",
   "language": "python",
   "name": "python2"
  },
  "language_info": {
   "codemirror_mode": {
    "name": "ipython",
    "version": 2
   },
   "file_extension": ".py",
   "mimetype": "text/x-python",
   "name": "python",
   "nbconvert_exporter": "python",
   "pygments_lexer": "ipython2",
   "version": "2.7.12"
  }
 },
 "nbformat": 4,
 "nbformat_minor": 2
}
